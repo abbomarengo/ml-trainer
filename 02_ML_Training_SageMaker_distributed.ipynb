{
 "cells": [
  {
   "cell_type": "code",
   "execution_count": null,
   "metadata": {
    "collapsed": true
   },
   "outputs": [],
   "source": [
    "import os\n",
    "import boto3\n",
    "import time\n",
    "import numpy as np\n",
    "import sagemaker\n",
    "import torchvision\n",
    "from matplotlib import pyplot as plt\n",
    "from sagemaker.pytorch import PyTorch\n",
    "\n",
    "from src.utils.utils import load_history\n",
    "\n",
    "sess = boto3.Session()\n",
    "sm   = sess.client('sagemaker')\n",
    "sagemaker_session = sagemaker.Session()\n",
    "role = sagemaker.get_execution_role()\n",
    "# role = 'coeuraj-ds'\n",
    "\n",
    "bucket_name    = sagemaker_session.default_bucket()\n",
    "jobs_folder    = 'jobs'\n",
    "dataset_folder = 'datasets'"
   ]
  },
  {
   "cell_type": "code",
   "execution_count": null,
   "outputs": [],
   "source": [
    "# Parameters\n",
    "backend = 'smddp' # 'gloo'\n",
    "instance_type = 'local_gpu' #'ml.p4d.24xlarge', # 'ml.p3.16xlarge', 'ml.p3dn.24xlarge', 'ml.p4d.24xlarge'\n",
    "instance_count = 1"
   ],
   "metadata": {
    "collapsed": false
   }
  },
  {
   "cell_type": "code",
   "execution_count": null,
   "outputs": [],
   "source": [
    "cifar10_dataset = torchvision.datasets.CIFAR10('cifar10-dataset',\n",
    "                                               train=True,\n",
    "                                               download=True)"
   ],
   "metadata": {
    "collapsed": false
   }
  },
  {
   "cell_type": "code",
   "execution_count": null,
   "outputs": [],
   "source": [
    "datasets = sagemaker_session.upload_data(path='cifar10-dataset',\n",
    "                                         key_prefix=f'{dataset_folder}/cifar10-dataset')"
   ],
   "metadata": {
    "collapsed": false
   }
  },
  {
   "cell_type": "code",
   "execution_count": null,
   "outputs": [],
   "source": [
    "job_name   = f'pytorch-smddp-dist-{time.strftime(\"%Y-%m-%d-%H-%M-%S-%j\", time.gmtime())}'\n",
    "output_path = f's3://{bucket_name}/{jobs_folder}'\n",
    "\n",
    "hyperparameters = {'epochs'         : 15,\n",
    "                   'seed'           : 32,\n",
    "                   'batch_size'     : 32,\n",
    "                   # 'scheduler'      : None,\n",
    "                   'optimizer'      : 'sgd',\n",
    "                   'momentum'       : 0.9,\n",
    "                   'lr'             : 0.001,\n",
    "                   'criterion'      : 'cross_entropy',\n",
    "                   # 'metric'         : None,\n",
    "                   # 'model_dir'      : 'model_output',\n",
    "                   'custom_function': True, # If True update custom_pre_process_function in src/utils/functions.py\n",
    "                   'backend'        : backend\n",
    "                   }"
   ],
   "metadata": {
    "collapsed": false
   }
  },
  {
   "cell_type": "code",
   "execution_count": null,
   "outputs": [],
   "source": [
    "distribution = { \"smdistributed\": {\n",
    "                                    \"dataparallel\": { \"enabled\": True }\n",
    "                                  }\n",
    "                }"
   ],
   "metadata": {
    "collapsed": false
   }
  },
  {
   "cell_type": "code",
   "execution_count": null,
   "outputs": [],
   "source": [
    "estimator = PyTorch(entry_point          = 'main.py',\n",
    "                    source_dir           = '.',\n",
    "                    output_path          = output_path + '/',\n",
    "                    code_location        = output_path,\n",
    "                    role                 = role,\n",
    "                    instance_count       = instance_count,\n",
    "                    instance_type        = instance_type,\n",
    "                    framework_version    = '1.11.0',\n",
    "                    py_version           = 'py38',\n",
    "                    distribution         = distribution,\n",
    "                    hyperparameters      = hyperparameters)"
   ],
   "metadata": {
    "collapsed": false
   }
  },
  {
   "cell_type": "code",
   "execution_count": null,
   "outputs": [],
   "source": [
    "estimator.fit({'train': datasets},\n",
    "              job_name=job_name,\n",
    "              wait=True)"
   ],
   "metadata": {
    "collapsed": false
   }
  },
  {
   "cell_type": "code",
   "execution_count": null,
   "outputs": [],
   "source": [
    "history = load_history(os.environ[\"SM_MODEL_DIR\"])"
   ],
   "metadata": {
    "collapsed": false
   }
  },
  {
   "cell_type": "code",
   "execution_count": null,
   "outputs": [],
   "source": [
    "def plot(history) -> None:\n",
    "    ts = datetime.datetime.now().strftime(\"%Y_%m_%d %H_%M_%S\")\n",
    "    x = history['epochs']\n",
    "    train_loss = history['train_loss']\n",
    "    val_loss = history['val_loss']\n",
    "    fig, axes = plt.subplots(2, 1, figsize=(10, 5))\n",
    "    # ax1.plot(x, y_coherence, c='r')\n",
    "    # ax2.plot(x, y_perplexity, c='g')\n",
    "    # ax1.set_xticks(x)\n",
    "    # ax1.set_xlabel(\"Num Topics\")\n",
    "    # ax1.set_ylabel(\"Coherence score\", color='r')\n",
    "    # ax2.set_ylabel(\"Perplexity score\", color='g')\n",
    "    # fig.savefig(fname=f'output/plots/{ts}_topics_coherence_values.png')\n",
    "    plt.show()"
   ],
   "metadata": {
    "collapsed": false
   }
  }
 ],
 "metadata": {
  "kernelspec": {
   "display_name": "Python 3",
   "language": "python",
   "name": "python3"
  },
  "language_info": {
   "codemirror_mode": {
    "name": "ipython",
    "version": 2
   },
   "file_extension": ".py",
   "mimetype": "text/x-python",
   "name": "python",
   "nbconvert_exporter": "python",
   "pygments_lexer": "ipython2",
   "version": "2.7.6"
  }
 },
 "nbformat": 4,
 "nbformat_minor": 0
}
