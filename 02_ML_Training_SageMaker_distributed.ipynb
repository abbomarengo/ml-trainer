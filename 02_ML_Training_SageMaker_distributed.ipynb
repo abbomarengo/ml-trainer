{
 "cells": [
  {
   "cell_type": "code",
   "execution_count": 1,
   "metadata": {
    "collapsed": true
   },
   "outputs": [],
   "source": [
    "import os\n",
    "import boto3\n",
    "import time\n",
    "import numpy as np\n",
    "import sagemaker\n",
    "import torchvision\n",
    "from sagemaker.pytorch import PyTorch\n",
    "\n",
    "sess = boto3.Session()\n",
    "sm   = sess.client('sagemaker')\n",
    "sagemaker_session = sagemaker.Session()\n",
    "role = sagemaker.get_execution_role()\n",
    "\n",
    "bucket_name    = sagemaker_session.default_bucket()\n",
    "jobs_folder    = 'jobs'\n",
    "dataset_folder = 'datasets'"
   ]
  },
  {
   "cell_type": "code",
   "execution_count": 2,
   "outputs": [],
   "source": [
    "# Parameters\n",
    "backend = 'gloo' #'smddp'\n",
    "instance_type = 'local' #'ml.p4d.24xlarge', # 'ml.p3.16xlarge', 'ml.p3dn.24xlarge', 'ml.p4d.24xlarge'\n",
    "instance_count = 2"
   ],
   "metadata": {
    "collapsed": false
   }
  },
  {
   "cell_type": "code",
   "execution_count": 3,
   "outputs": [
    {
     "name": "stdout",
     "output_type": "stream",
     "text": [
      "Files already downloaded and verified\n"
     ]
    }
   ],
   "source": [
    "cifar10_dataset = torchvision.datasets.CIFAR10('cifar10-dataset',\n",
    "                                               train=True,\n",
    "                                               download=True)"
   ],
   "metadata": {
    "collapsed": false
   }
  },
  {
   "cell_type": "code",
   "execution_count": 4,
   "outputs": [],
   "source": [
    "datasets = sagemaker_session.upload_data(path='cifar10-dataset',\n",
    "                                         key_prefix=f'{dataset_folder}/cifar10-dataset')"
   ],
   "metadata": {
    "collapsed": false
   }
  },
  {
   "cell_type": "code",
   "execution_count": 5,
   "outputs": [],
   "source": [
    "job_name   = f'pytorch-smddp-dist-{time.strftime(\"%Y-%m-%d-%H-%M-%S-%j\", time.gmtime())}'\n",
    "output_path = f's3://{bucket_name}/{jobs_folder}'\n",
    "\n",
    "hyperparameters = {'epochs'         : 15,\n",
    "                   'seed'           : 32,\n",
    "                   'batch_size'     : 32,\n",
    "                   'scheduler'      : None,\n",
    "                   'optimizer'      : 'sgd',\n",
    "                   'momentum'       : 0.9,\n",
    "                   'lr'             : 0.001,\n",
    "                   'criterion'      : 'cross_entropy',\n",
    "                   'metric'         : None,\n",
    "                   'model_dir'      : 'model_output',\n",
    "                   'custom_function': True,\n",
    "                   'backend'        : backend\n",
    "                   }"
   ],
   "metadata": {
    "collapsed": false
   }
  },
  {
   "cell_type": "code",
   "execution_count": 6,
   "outputs": [],
   "source": [
    "distribution = { \"smdistributed\": {\n",
    "                                    \"dataparallel\": { \"enabled\": True }\n",
    "                                  }\n",
    "                }"
   ],
   "metadata": {
    "collapsed": false
   }
  },
  {
   "cell_type": "code",
   "execution_count": 7,
   "outputs": [
    {
     "ename": "ValueError",
     "evalue": "Provided instance_type local is not supported by smdataparallel.\nPlease specify one of the supported instance types:('ml.p3.16xlarge', 'ml.p3dn.24xlarge', 'ml.p4d.24xlarge', 'ml.p4de.24xlarge', 'local_gpu')\n",
     "output_type": "error",
     "traceback": [
      "\u001B[0;31m---------------------------------------------------------------------------\u001B[0m",
      "\u001B[0;31mValueError\u001B[0m                                Traceback (most recent call last)",
      "Cell \u001B[0;32mIn [7], line 1\u001B[0m\n\u001B[0;32m----> 1\u001B[0m estimator \u001B[38;5;241m=\u001B[39m \u001B[43mPyTorch\u001B[49m\u001B[43m(\u001B[49m\u001B[43mentry_point\u001B[49m\u001B[43m          \u001B[49m\u001B[38;5;241;43m=\u001B[39;49m\u001B[43m \u001B[49m\u001B[38;5;124;43m'\u001B[39;49m\u001B[38;5;124;43mmain.py\u001B[39;49m\u001B[38;5;124;43m'\u001B[39;49m\u001B[43m,\u001B[49m\n\u001B[1;32m      2\u001B[0m \u001B[43m                    \u001B[49m\u001B[43msource_dir\u001B[49m\u001B[43m           \u001B[49m\u001B[38;5;241;43m=\u001B[39;49m\u001B[43m \u001B[49m\u001B[38;5;124;43m'\u001B[39;49m\u001B[38;5;124;43m'\u001B[39;49m\u001B[43m,\u001B[49m\n\u001B[1;32m      3\u001B[0m \u001B[43m                    \u001B[49m\u001B[43moutput_path\u001B[49m\u001B[43m          \u001B[49m\u001B[38;5;241;43m=\u001B[39;49m\u001B[43m \u001B[49m\u001B[43moutput_path\u001B[49m\u001B[43m \u001B[49m\u001B[38;5;241;43m+\u001B[39;49m\u001B[43m \u001B[49m\u001B[38;5;124;43m'\u001B[39;49m\u001B[38;5;124;43m/\u001B[39;49m\u001B[38;5;124;43m'\u001B[39;49m\u001B[43m,\u001B[49m\n\u001B[1;32m      4\u001B[0m \u001B[43m                    \u001B[49m\u001B[43mcode_location\u001B[49m\u001B[43m        \u001B[49m\u001B[38;5;241;43m=\u001B[39;49m\u001B[43m \u001B[49m\u001B[43moutput_path\u001B[49m\u001B[43m,\u001B[49m\n\u001B[1;32m      5\u001B[0m \u001B[43m                    \u001B[49m\u001B[43mrole\u001B[49m\u001B[43m                 \u001B[49m\u001B[38;5;241;43m=\u001B[39;49m\u001B[43m \u001B[49m\u001B[43mrole\u001B[49m\u001B[43m,\u001B[49m\n\u001B[1;32m      6\u001B[0m \u001B[43m                    \u001B[49m\u001B[43minstance_count\u001B[49m\u001B[43m       \u001B[49m\u001B[38;5;241;43m=\u001B[39;49m\u001B[43m \u001B[49m\u001B[43minstance_count\u001B[49m\u001B[43m,\u001B[49m\n\u001B[1;32m      7\u001B[0m \u001B[43m                    \u001B[49m\u001B[43minstance_type\u001B[49m\u001B[43m        \u001B[49m\u001B[38;5;241;43m=\u001B[39;49m\u001B[43m \u001B[49m\u001B[43minstance_type\u001B[49m\u001B[43m,\u001B[49m\n\u001B[1;32m      8\u001B[0m \u001B[43m                    \u001B[49m\u001B[43mframework_version\u001B[49m\u001B[43m    \u001B[49m\u001B[38;5;241;43m=\u001B[39;49m\u001B[43m \u001B[49m\u001B[38;5;124;43m'\u001B[39;49m\u001B[38;5;124;43m1.11.0\u001B[39;49m\u001B[38;5;124;43m'\u001B[39;49m\u001B[43m,\u001B[49m\n\u001B[1;32m      9\u001B[0m \u001B[43m                    \u001B[49m\u001B[43mpy_version\u001B[49m\u001B[43m           \u001B[49m\u001B[38;5;241;43m=\u001B[39;49m\u001B[43m \u001B[49m\u001B[38;5;124;43m'\u001B[39;49m\u001B[38;5;124;43mpy38\u001B[39;49m\u001B[38;5;124;43m'\u001B[39;49m\u001B[43m,\u001B[49m\n\u001B[1;32m     10\u001B[0m \u001B[43m                    \u001B[49m\u001B[43mdistribution\u001B[49m\u001B[43m         \u001B[49m\u001B[38;5;241;43m=\u001B[39;49m\u001B[43m \u001B[49m\u001B[43mdistribution\u001B[49m\u001B[43m,\u001B[49m\n\u001B[1;32m     11\u001B[0m \u001B[43m                    \u001B[49m\u001B[43mhyperparameters\u001B[49m\u001B[43m      \u001B[49m\u001B[38;5;241;43m=\u001B[39;49m\u001B[43m \u001B[49m\u001B[43mhyperparameters\u001B[49m\u001B[43m)\u001B[49m\n",
      "File \u001B[0;32m~/Coeuraj/v_env/lib/python3.9/site-packages/sagemaker/pytorch/estimator.py:268\u001B[0m, in \u001B[0;36mPyTorch.__init__\u001B[0;34m(self, entry_point, framework_version, py_version, source_dir, hyperparameters, image_uri, distribution, compiler_config, **kwargs)\u001B[0m\n\u001B[1;32m    265\u001B[0m     kwargs[\u001B[38;5;124m\"\u001B[39m\u001B[38;5;124mentry_point\u001B[39m\u001B[38;5;124m\"\u001B[39m] \u001B[38;5;241m=\u001B[39m entry_point\n\u001B[1;32m    267\u001B[0m \u001B[38;5;28;01mif\u001B[39;00m distribution \u001B[38;5;129;01mis\u001B[39;00m \u001B[38;5;129;01mnot\u001B[39;00m \u001B[38;5;28;01mNone\u001B[39;00m:\n\u001B[0;32m--> 268\u001B[0m     distribution \u001B[38;5;241m=\u001B[39m \u001B[43mvalidate_distribution\u001B[49m\u001B[43m(\u001B[49m\n\u001B[1;32m    269\u001B[0m \u001B[43m        \u001B[49m\u001B[43mdistribution\u001B[49m\u001B[43m,\u001B[49m\n\u001B[1;32m    270\u001B[0m \u001B[43m        \u001B[49m\u001B[38;5;28;43mself\u001B[39;49m\u001B[38;5;241;43m.\u001B[39;49m\u001B[43minstance_groups\u001B[49m\u001B[43m,\u001B[49m\n\u001B[1;32m    271\u001B[0m \u001B[43m        \u001B[49m\u001B[38;5;28;43mself\u001B[39;49m\u001B[38;5;241;43m.\u001B[39;49m\u001B[43m_framework_name\u001B[49m\u001B[43m,\u001B[49m\n\u001B[1;32m    272\u001B[0m \u001B[43m        \u001B[49m\u001B[43mframework_version\u001B[49m\u001B[43m,\u001B[49m\n\u001B[1;32m    273\u001B[0m \u001B[43m        \u001B[49m\u001B[43mpy_version\u001B[49m\u001B[43m,\u001B[49m\n\u001B[1;32m    274\u001B[0m \u001B[43m        \u001B[49m\u001B[43mimage_uri\u001B[49m\u001B[43m,\u001B[49m\n\u001B[1;32m    275\u001B[0m \u001B[43m        \u001B[49m\u001B[43mkwargs\u001B[49m\u001B[43m,\u001B[49m\n\u001B[1;32m    276\u001B[0m \u001B[43m    \u001B[49m\u001B[43m)\u001B[49m\n\u001B[1;32m    278\u001B[0m \u001B[38;5;28mself\u001B[39m\u001B[38;5;241m.\u001B[39mdistribution \u001B[38;5;241m=\u001B[39m distribution \u001B[38;5;129;01mor\u001B[39;00m {}\n\u001B[1;32m    280\u001B[0m \u001B[38;5;28;01mif\u001B[39;00m compiler_config \u001B[38;5;129;01mis\u001B[39;00m \u001B[38;5;129;01mnot\u001B[39;00m \u001B[38;5;28;01mNone\u001B[39;00m:\n",
      "File \u001B[0;32m~/Coeuraj/v_env/lib/python3.9/site-packages/sagemaker/fw_utils.py:885\u001B[0m, in \u001B[0;36mvalidate_distribution\u001B[0;34m(distribution, instance_groups, framework_name, framework_version, py_version, image_uri, kwargs)\u001B[0m\n\u001B[1;32m    878\u001B[0m instance_type \u001B[38;5;241m=\u001B[39m renamed_kwargs(\n\u001B[1;32m    879\u001B[0m     \u001B[38;5;124m\"\u001B[39m\u001B[38;5;124mtrain_instance_type\u001B[39m\u001B[38;5;124m\"\u001B[39m, \u001B[38;5;124m\"\u001B[39m\u001B[38;5;124minstance_type\u001B[39m\u001B[38;5;124m\"\u001B[39m, kwargs\u001B[38;5;241m.\u001B[39mget(\u001B[38;5;124m\"\u001B[39m\u001B[38;5;124minstance_type\u001B[39m\u001B[38;5;124m\"\u001B[39m), kwargs\n\u001B[1;32m    880\u001B[0m )\n\u001B[1;32m    881\u001B[0m validate_distribution_for_instance_type(\n\u001B[1;32m    882\u001B[0m     instance_type\u001B[38;5;241m=\u001B[39minstance_type,\n\u001B[1;32m    883\u001B[0m     distribution\u001B[38;5;241m=\u001B[39mdistribution,\n\u001B[1;32m    884\u001B[0m )\n\u001B[0;32m--> 885\u001B[0m \u001B[43mvalidate_smdistributed\u001B[49m\u001B[43m(\u001B[49m\n\u001B[1;32m    886\u001B[0m \u001B[43m    \u001B[49m\u001B[43minstance_type\u001B[49m\u001B[38;5;241;43m=\u001B[39;49m\u001B[43minstance_type\u001B[49m\u001B[43m,\u001B[49m\n\u001B[1;32m    887\u001B[0m \u001B[43m    \u001B[49m\u001B[43mframework_name\u001B[49m\u001B[38;5;241;43m=\u001B[39;49m\u001B[43mframework_name\u001B[49m\u001B[43m,\u001B[49m\n\u001B[1;32m    888\u001B[0m \u001B[43m    \u001B[49m\u001B[43mframework_version\u001B[49m\u001B[38;5;241;43m=\u001B[39;49m\u001B[43mframework_version\u001B[49m\u001B[43m,\u001B[49m\n\u001B[1;32m    889\u001B[0m \u001B[43m    \u001B[49m\u001B[43mpy_version\u001B[49m\u001B[38;5;241;43m=\u001B[39;49m\u001B[43mpy_version\u001B[49m\u001B[43m,\u001B[49m\n\u001B[1;32m    890\u001B[0m \u001B[43m    \u001B[49m\u001B[43mdistribution\u001B[49m\u001B[38;5;241;43m=\u001B[39;49m\u001B[43mdistribution\u001B[49m\u001B[43m,\u001B[49m\n\u001B[1;32m    891\u001B[0m \u001B[43m    \u001B[49m\u001B[43mimage_uri\u001B[49m\u001B[38;5;241;43m=\u001B[39;49m\u001B[43mimage_uri\u001B[49m\u001B[43m,\u001B[49m\n\u001B[1;32m    892\u001B[0m \u001B[43m\u001B[49m\u001B[43m)\u001B[49m\n\u001B[1;32m    893\u001B[0m \u001B[38;5;28;01mif\u001B[39;00m framework_name \u001B[38;5;129;01mand\u001B[39;00m framework_name \u001B[38;5;241m==\u001B[39m \u001B[38;5;124m\"\u001B[39m\u001B[38;5;124mpytorch\u001B[39m\u001B[38;5;124m\"\u001B[39m:\n\u001B[1;32m    894\u001B[0m     \u001B[38;5;66;03m# We need to validate only for PyTorch framework\u001B[39;00m\n\u001B[1;32m    895\u001B[0m     validate_pytorch_distribution(\n\u001B[1;32m    896\u001B[0m         distribution\u001B[38;5;241m=\u001B[39mdistribution,\n\u001B[1;32m    897\u001B[0m         framework_name\u001B[38;5;241m=\u001B[39mframework_name,\n\u001B[0;32m   (...)\u001B[0m\n\u001B[1;32m    900\u001B[0m         image_uri\u001B[38;5;241m=\u001B[39mimage_uri,\n\u001B[1;32m    901\u001B[0m     )\n",
      "File \u001B[0;32m~/Coeuraj/v_env/lib/python3.9/site-packages/sagemaker/fw_utils.py:690\u001B[0m, in \u001B[0;36mvalidate_smdistributed\u001B[0;34m(instance_type, framework_name, framework_version, py_version, distribution, image_uri)\u001B[0m\n\u001B[1;32m    688\u001B[0m \u001B[38;5;66;03m# smdataparallel-specific input validation\u001B[39;00m\n\u001B[1;32m    689\u001B[0m \u001B[38;5;28;01mif\u001B[39;00m \u001B[38;5;124m\"\u001B[39m\u001B[38;5;124mdataparallel\u001B[39m\u001B[38;5;124m\"\u001B[39m \u001B[38;5;129;01min\u001B[39;00m smdistributed:\n\u001B[0;32m--> 690\u001B[0m     \u001B[43m_validate_smdataparallel_args\u001B[49m\u001B[43m(\u001B[49m\n\u001B[1;32m    691\u001B[0m \u001B[43m        \u001B[49m\u001B[43minstance_type\u001B[49m\u001B[43m,\u001B[49m\u001B[43m \u001B[49m\u001B[43mframework_name\u001B[49m\u001B[43m,\u001B[49m\u001B[43m \u001B[49m\u001B[43mframework_version\u001B[49m\u001B[43m,\u001B[49m\u001B[43m \u001B[49m\u001B[43mpy_version\u001B[49m\u001B[43m,\u001B[49m\u001B[43m \u001B[49m\u001B[43mdistribution\u001B[49m\u001B[43m,\u001B[49m\u001B[43m \u001B[49m\u001B[43mimage_uri\u001B[49m\n\u001B[1;32m    692\u001B[0m \u001B[43m    \u001B[49m\u001B[43m)\u001B[49m\n",
      "File \u001B[0;32m~/Coeuraj/v_env/lib/python3.9/site-packages/sagemaker/fw_utils.py:765\u001B[0m, in \u001B[0;36m_validate_smdataparallel_args\u001B[0;34m(instance_type, framework_name, framework_version, py_version, distribution, image_uri)\u001B[0m\n\u001B[1;32m    759\u001B[0m         err_msg \u001B[38;5;241m+\u001B[39m\u001B[38;5;241m=\u001B[39m (\n\u001B[1;32m    760\u001B[0m             \u001B[38;5;124mf\u001B[39m\u001B[38;5;124m\"\u001B[39m\u001B[38;5;124mProvided py_version \u001B[39m\u001B[38;5;132;01m{\u001B[39;00mpy_version\u001B[38;5;132;01m}\u001B[39;00m\u001B[38;5;124m is not supported by smdataparallel.\u001B[39m\u001B[38;5;130;01m\\n\u001B[39;00m\u001B[38;5;124m\"\u001B[39m\n\u001B[1;32m    761\u001B[0m             \u001B[38;5;124m\"\u001B[39m\u001B[38;5;124mPlease specify py_version>=py3\u001B[39m\u001B[38;5;124m\"\u001B[39m\n\u001B[1;32m    762\u001B[0m         )\n\u001B[1;32m    764\u001B[0m \u001B[38;5;28;01mif\u001B[39;00m err_msg:\n\u001B[0;32m--> 765\u001B[0m     \u001B[38;5;28;01mraise\u001B[39;00m \u001B[38;5;167;01mValueError\u001B[39;00m(err_msg)\n",
      "\u001B[0;31mValueError\u001B[0m: Provided instance_type local is not supported by smdataparallel.\nPlease specify one of the supported instance types:('ml.p3.16xlarge', 'ml.p3dn.24xlarge', 'ml.p4d.24xlarge', 'ml.p4de.24xlarge', 'local_gpu')\n"
     ]
    }
   ],
   "source": [
    "estimator = PyTorch(entry_point          = 'main.py',\n",
    "                    source_dir           = '',\n",
    "                    output_path          = output_path + '/',\n",
    "                    code_location        = output_path,\n",
    "                    role                 = role,\n",
    "                    instance_count       = instance_count,\n",
    "                    instance_type        = instance_type,\n",
    "                    framework_version    = '1.11.0',\n",
    "                    py_version           = 'py38',\n",
    "                    distribution         = distribution,\n",
    "                    hyperparameters      = hyperparameters)"
   ],
   "metadata": {
    "collapsed": false
   }
  },
  {
   "cell_type": "code",
   "execution_count": null,
   "outputs": [],
   "source": [
    "estimator.fit({'train': datasets},\n",
    "              job_name=job_name,\n",
    "              wait=True)"
   ],
   "metadata": {
    "collapsed": false
   }
  }
 ],
 "metadata": {
  "kernelspec": {
   "display_name": "Python 3",
   "language": "python",
   "name": "python3"
  },
  "language_info": {
   "codemirror_mode": {
    "name": "ipython",
    "version": 2
   },
   "file_extension": ".py",
   "mimetype": "text/x-python",
   "name": "python",
   "nbconvert_exporter": "python",
   "pygments_lexer": "ipython2",
   "version": "2.7.6"
  }
 },
 "nbformat": 4,
 "nbformat_minor": 0
}
