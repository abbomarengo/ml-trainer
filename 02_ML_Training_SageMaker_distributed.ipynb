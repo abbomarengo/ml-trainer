{
 "cells": [
  {
   "cell_type": "code",
   "execution_count": 1,
   "metadata": {
    "collapsed": true
   },
   "outputs": [
    {
     "name": "stderr",
     "output_type": "stream",
     "text": [
      "Couldn't call 'get_role' to get Role ARN from role name alberto.marengo@coeuraj.com to get Role path.\n"
     ]
    },
    {
     "ename": "ValueError",
     "evalue": "The current AWS identity is not a role: arn:aws:iam::269847810702:user/alberto.marengo@coeuraj.com, therefore it cannot be used as a SageMaker execution role",
     "output_type": "error",
     "traceback": [
      "\u001B[0;31m---------------------------------------------------------------------------\u001B[0m",
      "\u001B[0;31mValueError\u001B[0m                                Traceback (most recent call last)",
      "Cell \u001B[0;32mIn [1], line 15\u001B[0m\n\u001B[1;32m     13\u001B[0m sm   \u001B[38;5;241m=\u001B[39m sess\u001B[38;5;241m.\u001B[39mclient(\u001B[38;5;124m'\u001B[39m\u001B[38;5;124msagemaker\u001B[39m\u001B[38;5;124m'\u001B[39m)\n\u001B[1;32m     14\u001B[0m sagemaker_session \u001B[38;5;241m=\u001B[39m sagemaker\u001B[38;5;241m.\u001B[39mSession()\n\u001B[0;32m---> 15\u001B[0m role \u001B[38;5;241m=\u001B[39m \u001B[43msagemaker\u001B[49m\u001B[38;5;241;43m.\u001B[39;49m\u001B[43mget_execution_role\u001B[49m\u001B[43m(\u001B[49m\u001B[43m)\u001B[49m\n\u001B[1;32m     16\u001B[0m \u001B[38;5;66;03m# role = 'coeuraj-ds'\u001B[39;00m\n\u001B[1;32m     18\u001B[0m bucket_name    \u001B[38;5;241m=\u001B[39m sagemaker_session\u001B[38;5;241m.\u001B[39mdefault_bucket()\n",
      "File \u001B[0;32m~/Coeuraj/v_env/lib/python3.9/site-packages/sagemaker/session.py:5278\u001B[0m, in \u001B[0;36mget_execution_role\u001B[0;34m(sagemaker_session)\u001B[0m\n\u001B[1;32m   5273\u001B[0m     \u001B[38;5;28;01mreturn\u001B[39;00m arn\n\u001B[1;32m   5274\u001B[0m message \u001B[38;5;241m=\u001B[39m (\n\u001B[1;32m   5275\u001B[0m     \u001B[38;5;124m\"\u001B[39m\u001B[38;5;124mThe current AWS identity is not a role: \u001B[39m\u001B[38;5;132;01m{}\u001B[39;00m\u001B[38;5;124m, therefore it cannot be used as a \u001B[39m\u001B[38;5;124m\"\u001B[39m\n\u001B[1;32m   5276\u001B[0m     \u001B[38;5;124m\"\u001B[39m\u001B[38;5;124mSageMaker execution role\u001B[39m\u001B[38;5;124m\"\u001B[39m\n\u001B[1;32m   5277\u001B[0m )\n\u001B[0;32m-> 5278\u001B[0m \u001B[38;5;28;01mraise\u001B[39;00m \u001B[38;5;167;01mValueError\u001B[39;00m(message\u001B[38;5;241m.\u001B[39mformat(arn))\n",
      "\u001B[0;31mValueError\u001B[0m: The current AWS identity is not a role: arn:aws:iam::269847810702:user/alberto.marengo@coeuraj.com, therefore it cannot be used as a SageMaker execution role"
     ]
    }
   ],
   "source": [
    "import os\n",
    "import boto3\n",
    "import time\n",
    "import numpy as np\n",
    "import sagemaker\n",
    "import torchvision\n",
    "from matplotlib import pyplot as plt\n",
    "from sagemaker.pytorch import PyTorch\n",
    "\n",
    "from src.utils.utils import load_history, plot_history\n",
    "\n",
    "sess = boto3.Session()\n",
    "sm   = sess.client('sagemaker')\n",
    "sagemaker_session = sagemaker.Session()\n",
    "role = sagemaker.get_execution_role()\n",
    "# role = 'coeuraj-ds'\n",
    "\n",
    "bucket_name    = sagemaker_session.default_bucket()\n",
    "jobs_folder    = 'jobs'\n",
    "dataset_folder = 'datasets'"
   ]
  },
  {
   "cell_type": "code",
   "execution_count": null,
   "outputs": [],
   "source": [
    "# Parameters\n",
    "backend = 'smddp' # 'gloo'\n",
    "instance_type = 'local_gpu' #'ml.p4d.24xlarge', # 'ml.p3.16xlarge', 'ml.p3dn.24xlarge', 'ml.p4d.24xlarge'\n",
    "instance_count = 1"
   ],
   "metadata": {
    "collapsed": false
   }
  },
  {
   "cell_type": "code",
   "execution_count": null,
   "outputs": [],
   "source": [
    "cifar10_dataset = torchvision.datasets.CIFAR10('cifar10-dataset',\n",
    "                                               train=True,\n",
    "                                               download=True)"
   ],
   "metadata": {
    "collapsed": false
   }
  },
  {
   "cell_type": "code",
   "execution_count": null,
   "outputs": [],
   "source": [
    "datasets = sagemaker_session.upload_data(path='cifar10-dataset',\n",
    "                                         key_prefix=f'{dataset_folder}/cifar10-dataset')"
   ],
   "metadata": {
    "collapsed": false
   }
  },
  {
   "cell_type": "code",
   "execution_count": null,
   "outputs": [],
   "source": [
    "job_name   = f'pytorch-smddp-dist-{time.strftime(\"%Y-%m-%d-%H-%M-%S-%j\", time.gmtime())}'\n",
    "output_path = f's3://{bucket_name}/{jobs_folder}'\n",
    "\n",
    "hyperparameters = {'epochs'         : 250,\n",
    "                   'seed'           : 32,\n",
    "                   'batch_size'     : 32,\n",
    "                   # 'scheduler'      : None,\n",
    "                   'optimizer'      : 'sgd',\n",
    "                   'momentum'       : 0.9,\n",
    "                   'lr'             : 0.001,\n",
    "                   'criterion'      : 'cross_entropy',\n",
    "                   'pred_function'  : 'softmax',\n",
    "                   'metric'         : 'accuracy',\n",
    "                   # 'model_dir'      : 'model_output',\n",
    "                   'custom_function': True, # If True update custom_pre_process_function in src/utils/functions.py\n",
    "                   'backend'        : backend\n",
    "                   }"
   ],
   "metadata": {
    "collapsed": false
   }
  },
  {
   "cell_type": "code",
   "execution_count": null,
   "outputs": [],
   "source": [
    "distribution = { \"smdistributed\": {\n",
    "                                    \"dataparallel\": { \"enabled\": True }\n",
    "                                  }\n",
    "                }"
   ],
   "metadata": {
    "collapsed": false
   }
  },
  {
   "cell_type": "code",
   "execution_count": null,
   "outputs": [],
   "source": [
    "estimator = PyTorch(entry_point          = 'main.py',\n",
    "                    source_dir           = '.',\n",
    "                    output_path          = output_path + '/',\n",
    "                    code_location        = output_path,\n",
    "                    role                 = role,\n",
    "                    instance_count       = instance_count,\n",
    "                    instance_type        = instance_type,\n",
    "                    framework_version    = '1.11.0',\n",
    "                    py_version           = 'py38',\n",
    "                    distribution         = distribution,\n",
    "                    hyperparameters      = hyperparameters)"
   ],
   "metadata": {
    "collapsed": false
   }
  },
  {
   "cell_type": "code",
   "execution_count": null,
   "outputs": [],
   "source": [
    "estimator.fit({'train': datasets},\n",
    "              job_name=job_name,\n",
    "              wait=True)"
   ],
   "metadata": {
    "collapsed": false
   }
  },
  {
   "cell_type": "code",
   "execution_count": null,
   "outputs": [],
   "source": [
    "history = load_history(os.environ[\"SM_MODEL_DIR\"])"
   ],
   "metadata": {
    "collapsed": false
   }
  },
  {
   "cell_type": "code",
   "execution_count": null,
   "outputs": [],
   "source": [
    "plot_history(history)"
   ],
   "metadata": {
    "collapsed": false
   }
  }
 ],
 "metadata": {
  "kernelspec": {
   "display_name": "Python 3",
   "language": "python",
   "name": "python3"
  },
  "language_info": {
   "codemirror_mode": {
    "name": "ipython",
    "version": 2
   },
   "file_extension": ".py",
   "mimetype": "text/x-python",
   "name": "python",
   "nbconvert_exporter": "python",
   "pygments_lexer": "ipython2",
   "version": "2.7.6"
  }
 },
 "nbformat": 4,
 "nbformat_minor": 0
}
